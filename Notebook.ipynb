{
 "cells": [
  {
   "cell_type": "code",
   "execution_count": 1,
   "id": "39bd1b49",
   "metadata": {},
   "outputs": [
    {
     "name": "stderr",
     "output_type": "stream",
     "text": [
      "C:\\Users\\sofia\\AppData\\Local\\Packages\\PythonSoftwareFoundation.Python.3.9_qbz5n2kfra8p0\\LocalCache\\local-packages\\Python39\\site-packages\\tqdm\\auto.py:22: TqdmWarning: IProgress not found. Please update jupyter and ipywidgets. See https://ipywidgets.readthedocs.io/en/stable/user_install.html\n",
      "  from .autonotebook import tqdm as notebook_tqdm\n"
     ]
    }
   ],
   "source": [
    "# Imports \n",
    "import os\n",
    "import shutil\n",
    "import kagglehub\n",
    "from collections import Counter\n",
    "import joblib\n",
    "\n",
    "import numpy as np\n",
    "import pandas as pd\n",
    "import matplotlib.pyplot as plt\n",
    "import seaborn as sns\n",
    "\n",
    "from scipy.stats import chi2_contingency, ttest_ind, mannwhitneyu\n",
    "from statsmodels.stats.outliers_influence import variance_inflation_factor\n",
    "from imblearn.over_sampling import SMOTE, ADASYN\n",
    "from scipy.stats import randint, uniform\n",
    "\n",
    "from sklearn.model_selection import train_test_split, cross_val_score\n",
    "from sklearn.ensemble import RandomForestClassifier\n",
    "from xgboost import XGBClassifier\n",
    "from catboost import CatBoostClassifier\n",
    "from lightgbm import LGBMClassifier\n",
    "\n",
    "from sklearn.metrics import classification_report, confusion_matrix, roc_auc_score\n",
    "from sklearn.model_selection import RandomizedSearchCV\n",
    "\n",
    "pd.set_option('display.max_columns', None)\n",
    "pd.set_option('display.max_rows', None)"
   ]
  },
  {
   "cell_type": "code",
   "execution_count": 2,
   "id": "d07479ed",
   "metadata": {},
   "outputs": [],
   "source": [
    "# # load the dataset as a pandas dataframe\n",
    "# path = kagglehub.dataset_load(\n",
    "#     KaggleDatasetAdapter.PANDAS,\n",
    "#     \"blastchar/telco-customer-churn\",\n",
    "#     path=\"telco-customer-churn.csv\",\n",
    "# )\n",
    "\n",
    "# # Copy the dataset in data\n",
    "# os.makedirs(\"data\", exist_ok=True)\n",
    "# shutil.copy(path, \"data/telco-customer-churn.csv\")"
   ]
  },
  {
   "cell_type": "code",
   "execution_count": 3,
   "id": "b0b05e60",
   "metadata": {},
   "outputs": [],
   "source": [
    "data = pd.read_csv(\"data/telco-customer-churn.csv\", index_col=\"customerID\")"
   ]
  },
  {
   "cell_type": "markdown",
   "id": "94c6f8fb",
   "metadata": {},
   "source": [
    "## Data Cleaning"
   ]
  },
  {
   "cell_type": "code",
   "execution_count": 4,
   "id": "8c4fbeea",
   "metadata": {},
   "outputs": [
    {
     "data": {
      "text/html": [
       "<div>\n",
       "<style scoped>\n",
       "    .dataframe tbody tr th:only-of-type {\n",
       "        vertical-align: middle;\n",
       "    }\n",
       "\n",
       "    .dataframe tbody tr th {\n",
       "        vertical-align: top;\n",
       "    }\n",
       "\n",
       "    .dataframe thead th {\n",
       "        text-align: right;\n",
       "    }\n",
       "</style>\n",
       "<table border=\"1\" class=\"dataframe\">\n",
       "  <thead>\n",
       "    <tr style=\"text-align: right;\">\n",
       "      <th></th>\n",
       "      <th>gender</th>\n",
       "      <th>SeniorCitizen</th>\n",
       "      <th>Partner</th>\n",
       "      <th>Dependents</th>\n",
       "      <th>tenure</th>\n",
       "      <th>PhoneService</th>\n",
       "      <th>MultipleLines</th>\n",
       "      <th>InternetService</th>\n",
       "      <th>OnlineSecurity</th>\n",
       "      <th>OnlineBackup</th>\n",
       "      <th>DeviceProtection</th>\n",
       "      <th>TechSupport</th>\n",
       "      <th>StreamingTV</th>\n",
       "      <th>StreamingMovies</th>\n",
       "      <th>Contract</th>\n",
       "      <th>PaperlessBilling</th>\n",
       "      <th>PaymentMethod</th>\n",
       "      <th>MonthlyCharges</th>\n",
       "      <th>TotalCharges</th>\n",
       "      <th>Churn</th>\n",
       "    </tr>\n",
       "    <tr>\n",
       "      <th>customerID</th>\n",
       "      <th></th>\n",
       "      <th></th>\n",
       "      <th></th>\n",
       "      <th></th>\n",
       "      <th></th>\n",
       "      <th></th>\n",
       "      <th></th>\n",
       "      <th></th>\n",
       "      <th></th>\n",
       "      <th></th>\n",
       "      <th></th>\n",
       "      <th></th>\n",
       "      <th></th>\n",
       "      <th></th>\n",
       "      <th></th>\n",
       "      <th></th>\n",
       "      <th></th>\n",
       "      <th></th>\n",
       "      <th></th>\n",
       "      <th></th>\n",
       "    </tr>\n",
       "  </thead>\n",
       "  <tbody>\n",
       "    <tr>\n",
       "      <th>7590-VHVEG</th>\n",
       "      <td>Female</td>\n",
       "      <td>0</td>\n",
       "      <td>Yes</td>\n",
       "      <td>No</td>\n",
       "      <td>1</td>\n",
       "      <td>No</td>\n",
       "      <td>No phone service</td>\n",
       "      <td>DSL</td>\n",
       "      <td>No</td>\n",
       "      <td>Yes</td>\n",
       "      <td>No</td>\n",
       "      <td>No</td>\n",
       "      <td>No</td>\n",
       "      <td>No</td>\n",
       "      <td>Month-to-month</td>\n",
       "      <td>Yes</td>\n",
       "      <td>Electronic check</td>\n",
       "      <td>29.85</td>\n",
       "      <td>29.85</td>\n",
       "      <td>No</td>\n",
       "    </tr>\n",
       "    <tr>\n",
       "      <th>5575-GNVDE</th>\n",
       "      <td>Male</td>\n",
       "      <td>0</td>\n",
       "      <td>No</td>\n",
       "      <td>No</td>\n",
       "      <td>34</td>\n",
       "      <td>Yes</td>\n",
       "      <td>No</td>\n",
       "      <td>DSL</td>\n",
       "      <td>Yes</td>\n",
       "      <td>No</td>\n",
       "      <td>Yes</td>\n",
       "      <td>No</td>\n",
       "      <td>No</td>\n",
       "      <td>No</td>\n",
       "      <td>One year</td>\n",
       "      <td>No</td>\n",
       "      <td>Mailed check</td>\n",
       "      <td>56.95</td>\n",
       "      <td>1889.5</td>\n",
       "      <td>No</td>\n",
       "    </tr>\n",
       "    <tr>\n",
       "      <th>3668-QPYBK</th>\n",
       "      <td>Male</td>\n",
       "      <td>0</td>\n",
       "      <td>No</td>\n",
       "      <td>No</td>\n",
       "      <td>2</td>\n",
       "      <td>Yes</td>\n",
       "      <td>No</td>\n",
       "      <td>DSL</td>\n",
       "      <td>Yes</td>\n",
       "      <td>Yes</td>\n",
       "      <td>No</td>\n",
       "      <td>No</td>\n",
       "      <td>No</td>\n",
       "      <td>No</td>\n",
       "      <td>Month-to-month</td>\n",
       "      <td>Yes</td>\n",
       "      <td>Mailed check</td>\n",
       "      <td>53.85</td>\n",
       "      <td>108.15</td>\n",
       "      <td>Yes</td>\n",
       "    </tr>\n",
       "    <tr>\n",
       "      <th>7795-CFOCW</th>\n",
       "      <td>Male</td>\n",
       "      <td>0</td>\n",
       "      <td>No</td>\n",
       "      <td>No</td>\n",
       "      <td>45</td>\n",
       "      <td>No</td>\n",
       "      <td>No phone service</td>\n",
       "      <td>DSL</td>\n",
       "      <td>Yes</td>\n",
       "      <td>No</td>\n",
       "      <td>Yes</td>\n",
       "      <td>Yes</td>\n",
       "      <td>No</td>\n",
       "      <td>No</td>\n",
       "      <td>One year</td>\n",
       "      <td>No</td>\n",
       "      <td>Bank transfer (automatic)</td>\n",
       "      <td>42.30</td>\n",
       "      <td>1840.75</td>\n",
       "      <td>No</td>\n",
       "    </tr>\n",
       "    <tr>\n",
       "      <th>9237-HQITU</th>\n",
       "      <td>Female</td>\n",
       "      <td>0</td>\n",
       "      <td>No</td>\n",
       "      <td>No</td>\n",
       "      <td>2</td>\n",
       "      <td>Yes</td>\n",
       "      <td>No</td>\n",
       "      <td>Fiber optic</td>\n",
       "      <td>No</td>\n",
       "      <td>No</td>\n",
       "      <td>No</td>\n",
       "      <td>No</td>\n",
       "      <td>No</td>\n",
       "      <td>No</td>\n",
       "      <td>Month-to-month</td>\n",
       "      <td>Yes</td>\n",
       "      <td>Electronic check</td>\n",
       "      <td>70.70</td>\n",
       "      <td>151.65</td>\n",
       "      <td>Yes</td>\n",
       "    </tr>\n",
       "  </tbody>\n",
       "</table>\n",
       "</div>"
      ],
      "text/plain": [
       "            gender  SeniorCitizen Partner Dependents  tenure PhoneService  \\\n",
       "customerID                                                                  \n",
       "7590-VHVEG  Female              0     Yes         No       1           No   \n",
       "5575-GNVDE    Male              0      No         No      34          Yes   \n",
       "3668-QPYBK    Male              0      No         No       2          Yes   \n",
       "7795-CFOCW    Male              0      No         No      45           No   \n",
       "9237-HQITU  Female              0      No         No       2          Yes   \n",
       "\n",
       "               MultipleLines InternetService OnlineSecurity OnlineBackup  \\\n",
       "customerID                                                                 \n",
       "7590-VHVEG  No phone service             DSL             No          Yes   \n",
       "5575-GNVDE                No             DSL            Yes           No   \n",
       "3668-QPYBK                No             DSL            Yes          Yes   \n",
       "7795-CFOCW  No phone service             DSL            Yes           No   \n",
       "9237-HQITU                No     Fiber optic             No           No   \n",
       "\n",
       "           DeviceProtection TechSupport StreamingTV StreamingMovies  \\\n",
       "customerID                                                            \n",
       "7590-VHVEG               No          No          No              No   \n",
       "5575-GNVDE              Yes          No          No              No   \n",
       "3668-QPYBK               No          No          No              No   \n",
       "7795-CFOCW              Yes         Yes          No              No   \n",
       "9237-HQITU               No          No          No              No   \n",
       "\n",
       "                  Contract PaperlessBilling              PaymentMethod  \\\n",
       "customerID                                                               \n",
       "7590-VHVEG  Month-to-month              Yes           Electronic check   \n",
       "5575-GNVDE        One year               No               Mailed check   \n",
       "3668-QPYBK  Month-to-month              Yes               Mailed check   \n",
       "7795-CFOCW        One year               No  Bank transfer (automatic)   \n",
       "9237-HQITU  Month-to-month              Yes           Electronic check   \n",
       "\n",
       "            MonthlyCharges TotalCharges Churn  \n",
       "customerID                                     \n",
       "7590-VHVEG           29.85        29.85    No  \n",
       "5575-GNVDE           56.95       1889.5    No  \n",
       "3668-QPYBK           53.85       108.15   Yes  \n",
       "7795-CFOCW           42.30      1840.75    No  \n",
       "9237-HQITU           70.70       151.65   Yes  "
      ]
     },
     "execution_count": 4,
     "metadata": {},
     "output_type": "execute_result"
    }
   ],
   "source": [
    "df = data.copy()\n",
    "df.head()"
   ]
  },
  {
   "cell_type": "code",
   "execution_count": 5,
   "id": "b2fa89cd",
   "metadata": {},
   "outputs": [
    {
     "data": {
      "text/plain": [
       "(7043, 20)"
      ]
     },
     "execution_count": 5,
     "metadata": {},
     "output_type": "execute_result"
    }
   ],
   "source": [
    "df.shape"
   ]
  },
  {
   "cell_type": "code",
   "execution_count": 6,
   "id": "83ab384a",
   "metadata": {},
   "outputs": [
    {
     "name": "stdout",
     "output_type": "stream",
     "text": [
      "<class 'pandas.core.frame.DataFrame'>\n",
      "Index: 7043 entries, 7590-VHVEG to 3186-AJIEK\n",
      "Data columns (total 20 columns):\n",
      " #   Column            Non-Null Count  Dtype  \n",
      "---  ------            --------------  -----  \n",
      " 0   gender            7043 non-null   object \n",
      " 1   SeniorCitizen     7043 non-null   int64  \n",
      " 2   Partner           7043 non-null   object \n",
      " 3   Dependents        7043 non-null   object \n",
      " 4   tenure            7043 non-null   int64  \n",
      " 5   PhoneService      7043 non-null   object \n",
      " 6   MultipleLines     7043 non-null   object \n",
      " 7   InternetService   7043 non-null   object \n",
      " 8   OnlineSecurity    7043 non-null   object \n",
      " 9   OnlineBackup      7043 non-null   object \n",
      " 10  DeviceProtection  7043 non-null   object \n",
      " 11  TechSupport       7043 non-null   object \n",
      " 12  StreamingTV       7043 non-null   object \n",
      " 13  StreamingMovies   7043 non-null   object \n",
      " 14  Contract          7043 non-null   object \n",
      " 15  PaperlessBilling  7043 non-null   object \n",
      " 16  PaymentMethod     7043 non-null   object \n",
      " 17  MonthlyCharges    7043 non-null   float64\n",
      " 18  TotalCharges      7043 non-null   object \n",
      " 19  Churn             7043 non-null   object \n",
      "dtypes: float64(1), int64(2), object(17)\n",
      "memory usage: 1.1+ MB\n"
     ]
    }
   ],
   "source": [
    "df.info()"
   ]
  },
  {
   "cell_type": "code",
   "execution_count": 7,
   "id": "454a9d9e",
   "metadata": {},
   "outputs": [
    {
     "name": "stdout",
     "output_type": "stream",
     "text": [
      "Categorical Column: gender\n",
      "Male      3555\n",
      "Female    3488\n",
      "Name: gender, dtype: int64\n",
      "Number of missing values:\n",
      "0\n",
      "\n",
      "\n",
      "Boolean Column: SeniorCitizen\n",
      "0    5901\n",
      "1    1142\n",
      "Name: SeniorCitizen, dtype: int64\n",
      "Number of missing values:\n",
      "0\n",
      "\n",
      "\n",
      "Categorical Column: Partner\n",
      "No     3641\n",
      "Yes    3402\n",
      "Name: Partner, dtype: int64\n",
      "Number of missing values:\n",
      "0\n",
      "\n",
      "\n",
      "Categorical Column: Dependents\n",
      "No     4933\n",
      "Yes    2110\n",
      "Name: Dependents, dtype: int64\n",
      "Number of missing values:\n",
      "0\n",
      "\n",
      "\n",
      "Numerical Column: tenure\n",
      "count    7043.000000\n",
      "mean       32.371149\n",
      "std        24.559481\n",
      "min         0.000000\n",
      "25%         9.000000\n",
      "50%        29.000000\n",
      "75%        55.000000\n",
      "max        72.000000\n",
      "Name: tenure, dtype: float64\n",
      "Number of missing values:\n",
      "0\n",
      "\n",
      "\n",
      "Categorical Column: PhoneService\n",
      "Yes    6361\n",
      "No      682\n",
      "Name: PhoneService, dtype: int64\n",
      "Number of missing values:\n",
      "0\n",
      "\n",
      "\n",
      "Categorical Column: MultipleLines\n",
      "No                  3390\n",
      "Yes                 2971\n",
      "No phone service     682\n",
      "Name: MultipleLines, dtype: int64\n",
      "Number of missing values:\n",
      "0\n",
      "\n",
      "\n",
      "Categorical Column: InternetService\n",
      "Fiber optic    3096\n",
      "DSL            2421\n",
      "No             1526\n",
      "Name: InternetService, dtype: int64\n",
      "Number of missing values:\n",
      "0\n",
      "\n",
      "\n",
      "Categorical Column: OnlineSecurity\n",
      "No                     3498\n",
      "Yes                    2019\n",
      "No internet service    1526\n",
      "Name: OnlineSecurity, dtype: int64\n",
      "Number of missing values:\n",
      "0\n",
      "\n",
      "\n",
      "Categorical Column: OnlineBackup\n",
      "No                     3088\n",
      "Yes                    2429\n",
      "No internet service    1526\n",
      "Name: OnlineBackup, dtype: int64\n",
      "Number of missing values:\n",
      "0\n",
      "\n",
      "\n",
      "Categorical Column: DeviceProtection\n",
      "No                     3095\n",
      "Yes                    2422\n",
      "No internet service    1526\n",
      "Name: DeviceProtection, dtype: int64\n",
      "Number of missing values:\n",
      "0\n",
      "\n",
      "\n",
      "Categorical Column: TechSupport\n",
      "No                     3473\n",
      "Yes                    2044\n",
      "No internet service    1526\n",
      "Name: TechSupport, dtype: int64\n",
      "Number of missing values:\n",
      "0\n",
      "\n",
      "\n",
      "Categorical Column: StreamingTV\n",
      "No                     2810\n",
      "Yes                    2707\n",
      "No internet service    1526\n",
      "Name: StreamingTV, dtype: int64\n",
      "Number of missing values:\n",
      "0\n",
      "\n",
      "\n",
      "Categorical Column: StreamingMovies\n",
      "No                     2785\n",
      "Yes                    2732\n",
      "No internet service    1526\n",
      "Name: StreamingMovies, dtype: int64\n",
      "Number of missing values:\n",
      "0\n",
      "\n",
      "\n",
      "Categorical Column: Contract\n",
      "Month-to-month    3875\n",
      "Two year          1695\n",
      "One year          1473\n",
      "Name: Contract, dtype: int64\n",
      "Number of missing values:\n",
      "0\n",
      "\n",
      "\n",
      "Categorical Column: PaperlessBilling\n",
      "Yes    4171\n",
      "No     2872\n",
      "Name: PaperlessBilling, dtype: int64\n",
      "Number of missing values:\n",
      "0\n",
      "\n",
      "\n",
      "Categorical Column: PaymentMethod\n",
      "Electronic check             2365\n",
      "Mailed check                 1612\n",
      "Bank transfer (automatic)    1544\n",
      "Credit card (automatic)      1522\n",
      "Name: PaymentMethod, dtype: int64\n",
      "Number of missing values:\n",
      "0\n",
      "\n",
      "\n",
      "Numerical Column: MonthlyCharges\n",
      "count    7043.000000\n",
      "mean       64.761692\n",
      "std        30.090047\n",
      "min        18.250000\n",
      "25%        35.500000\n",
      "50%        70.350000\n",
      "75%        89.850000\n",
      "max       118.750000\n",
      "Name: MonthlyCharges, dtype: float64\n",
      "Number of missing values:\n",
      "0\n",
      "\n",
      "\n",
      "Numerical Column: TotalCharges\n",
      "count    7032.000000\n",
      "mean     2283.300441\n",
      "std      2266.771362\n",
      "min        18.800000\n",
      "25%       401.450000\n",
      "50%      1397.475000\n",
      "75%      3794.737500\n",
      "max      8684.800000\n",
      "Name: TotalCharges, dtype: float64\n",
      "Number of missing values:\n",
      "11\n",
      "\n",
      "\n",
      "Categorical Column: Churn\n",
      "No     5174\n",
      "Yes    1869\n",
      "Name: Churn, dtype: int64\n",
      "Number of missing values:\n",
      "0\n",
      "\n",
      "\n"
     ]
    }
   ],
   "source": [
    "# Change type of TotalCharges to numeric, forcing errors to NaN\n",
    "df['TotalCharges'] = pd.to_numeric(df['TotalCharges'], errors='coerce')\n",
    "\n",
    "# Get the summary statistics depending on the data type and number of nans in each column\n",
    "def summary_statistics(df):\n",
    "    for col in df.columns:\n",
    "        if df[col].dtype == 'object':\n",
    "            print(f\"Categorical Column: {col}\")\n",
    "            print(df[col].value_counts())\n",
    "        else:\n",
    "            # if just 2 unique values, consider it categorical\n",
    "            if df[col].nunique() <= 2:\n",
    "                print(f\"Boolean Column: {col}\")\n",
    "                print(df[col].value_counts())\n",
    "            else:\n",
    "                print(f\"Numerical Column: {col}\")\n",
    "                print(df[col].describe())\n",
    "\n",
    "        print(\"Number of missing values:\")        \n",
    "        print(df[col].isna().sum())\n",
    "        print(\"\\n\")\n",
    "        \n",
    "summary_statistics(df)"
   ]
  },
  {
   "cell_type": "code",
   "execution_count": 8,
   "id": "b7448d69",
   "metadata": {},
   "outputs": [
    {
     "name": "stdout",
     "output_type": "stream",
     "text": [
      "0\n",
      "3214\n",
      "            gender  SeniorCitizen Partner Dependents  tenure PhoneService  \\\n",
      "customerID                                                                  \n",
      "4472-LVYGI  Female              0     Yes        Yes       0           No   \n",
      "3115-CZMZD    Male              0      No        Yes       0          Yes   \n",
      "5709-LVOEQ  Female              0     Yes        Yes       0          Yes   \n",
      "4367-NUYAO    Male              0     Yes        Yes       0          Yes   \n",
      "1371-DWPAZ  Female              0     Yes        Yes       0           No   \n",
      "7644-OMVMY    Male              0     Yes        Yes       0          Yes   \n",
      "3213-VVOLG    Male              0     Yes        Yes       0          Yes   \n",
      "2520-SGTTA  Female              0     Yes        Yes       0          Yes   \n",
      "2923-ARZLG    Male              0     Yes        Yes       0          Yes   \n",
      "4075-WKNIU  Female              0     Yes        Yes       0          Yes   \n",
      "2775-SEFEE    Male              0      No        Yes       0          Yes   \n",
      "\n",
      "           MultipleLines InternetService OnlineSecurity OnlineBackup  \\\n",
      "customerID                                                             \n",
      "4472-LVYGI            No             DSL            Yes           No   \n",
      "3115-CZMZD            No              No             No           No   \n",
      "5709-LVOEQ            No             DSL            Yes          Yes   \n",
      "4367-NUYAO           Yes              No             No           No   \n",
      "1371-DWPAZ            No             DSL            Yes          Yes   \n",
      "7644-OMVMY            No              No             No           No   \n",
      "3213-VVOLG           Yes              No             No           No   \n",
      "2520-SGTTA            No              No             No           No   \n",
      "2923-ARZLG            No              No             No           No   \n",
      "4075-WKNIU           Yes             DSL             No          Yes   \n",
      "2775-SEFEE           Yes             DSL            Yes          Yes   \n",
      "\n",
      "           DeviceProtection TechSupport StreamingTV StreamingMovies  Contract  \\\n",
      "customerID                                                                      \n",
      "4472-LVYGI              Yes         Yes         Yes              No  Two year   \n",
      "3115-CZMZD               No          No          No              No  Two year   \n",
      "5709-LVOEQ              Yes          No         Yes             Yes  Two year   \n",
      "4367-NUYAO               No          No          No              No  Two year   \n",
      "1371-DWPAZ              Yes         Yes         Yes              No  Two year   \n",
      "7644-OMVMY               No          No          No              No  Two year   \n",
      "3213-VVOLG               No          No          No              No  Two year   \n",
      "2520-SGTTA               No          No          No              No  Two year   \n",
      "2923-ARZLG               No          No          No              No  One year   \n",
      "4075-WKNIU              Yes         Yes         Yes              No  Two year   \n",
      "2775-SEFEE               No         Yes          No              No  Two year   \n",
      "\n",
      "           PaperlessBilling              PaymentMethod  MonthlyCharges  \\\n",
      "customerID                                                               \n",
      "4472-LVYGI              Yes  Bank transfer (automatic)           52.55   \n",
      "3115-CZMZD               No               Mailed check           20.25   \n",
      "5709-LVOEQ               No               Mailed check           80.85   \n",
      "4367-NUYAO               No               Mailed check           25.75   \n",
      "1371-DWPAZ               No    Credit card (automatic)           56.05   \n",
      "7644-OMVMY               No               Mailed check           19.85   \n",
      "3213-VVOLG               No               Mailed check           25.35   \n",
      "2520-SGTTA               No               Mailed check           20.00   \n",
      "2923-ARZLG              Yes               Mailed check           19.70   \n",
      "4075-WKNIU               No               Mailed check           73.35   \n",
      "2775-SEFEE              Yes  Bank transfer (automatic)           61.90   \n",
      "\n",
      "            TotalCharges Churn  \n",
      "customerID                      \n",
      "4472-LVYGI           NaN    No  \n",
      "3115-CZMZD           NaN    No  \n",
      "5709-LVOEQ           NaN    No  \n",
      "4367-NUYAO           NaN    No  \n",
      "1371-DWPAZ           NaN    No  \n",
      "7644-OMVMY           NaN    No  \n",
      "3213-VVOLG           NaN    No  \n",
      "2520-SGTTA           NaN    No  \n",
      "2923-ARZLG           NaN    No  \n",
      "4075-WKNIU           NaN    No  \n",
      "2775-SEFEE           NaN    No  \n"
     ]
    }
   ],
   "source": [
    "# Include No phone service and No internet service as a category No\n",
    "cols = ['MultipleLines', 'OnlineSecurity', 'OnlineBackup', 'DeviceProtection', 'TechSupport', 'StreamingTV', 'StreamingMovies']\n",
    "for col in cols:\n",
    "    df[col] = df[col].replace({'No phone service': 'No', 'No internet service': 'No'})\n",
    "\n",
    "# Check if TotalCharges is always greater than MonthlyCharges\n",
    "print((df['TotalCharges'] < df['MonthlyCharges']).sum())\n",
    "\n",
    "# Check if TotalCharges is egal to MonthlyCharges * Tenure\n",
    "print((df['TotalCharges'] < df['MonthlyCharges'] * df['tenure']).sum())\n",
    "\n",
    "# show the rows with missing values in TotalCharges\n",
    "print(df[df['TotalCharges'].isna()])\n",
    "\n",
    "# Drop rows with missing TotalCharges\n",
    "df = df.dropna(subset=['TotalCharges'])\n",
    "\n",
    "# Change SeniorCitizen to categorical\n",
    "df['SeniorCitizen'] = df['SeniorCitizen'].replace({1: 'Yes', 0: 'No'})"
   ]
  },
  {
   "cell_type": "markdown",
   "id": "04137410",
   "metadata": {},
   "source": [
    "## Data Inspection"
   ]
  },
  {
   "cell_type": "code",
   "execution_count": 9,
   "id": "d490380d",
   "metadata": {},
   "outputs": [
    {
     "name": "stdout",
     "output_type": "stream",
     "text": [
      "No     0.734215\n",
      "Yes    0.265785\n",
      "Name: Churn, dtype: float64\n"
     ]
    }
   ],
   "source": [
    "# Unbalanced target variable\n",
    "print(df['Churn'].value_counts(normalize=True))"
   ]
  },
  {
   "cell_type": "markdown",
   "id": "959ec4eb",
   "metadata": {},
   "source": [
    "### Categorical Columns Analysis\n",
    "\n",
    "#### *Visual Exploration*\n",
    "We analyze categorical features' relationships with customer churn through:\n",
    "- Distribution plots by churn status\n",
    "- Bar plots showing proportions\n",
    "- Count plots for frequency analysis\n",
    "- Helps identify potential patterns visually\n",
    "\n",
    "#### *Statistical Significance Testing*\n",
    "We use Chi-Square test to evaluate relationships:\n",
    "\n",
    "**Chi-Square Test of Independence**\n",
    "   - Tests if categorical variables are independent of churn\n",
    "   - Null hypothesis: No relationship exists\n",
    "   - Alternative hypothesis: Variables are dependent\n",
    "   - Significant if p-value < 0.05\n",
    "\n",
    "**Interpretation**\n",
    "- p-value < 0.05 : potential signaficant relationship\n",
    "- p-value ≥ 0.05 : insignificant relationship\n",
    "\n",
    "**Why This Matters**\n",
    "- Identifies key categorical predictors of churn\n",
    "- Guides feature engineering decisions\n",
    "\n",
    "**Next Steps**\n",
    "- Keep categories showing strong relationships\n",
    "- Remove insignificant categorical variables"
   ]
  },
  {
   "cell_type": "code",
   "execution_count": 10,
   "id": "9e745239",
   "metadata": {},
   "outputs": [
    {
     "data": {
      "image/png": "[encoded data removed]",
      "text/plain": [
       "<Figure size 576x288 with 1 Axes>"
      ]
     },
     "metadata": {
      "needs_background": "light"
     },
     "output_type": "display_data"
    },
    {
     "data": {
      "image/png": "[encoded data removed]",
      "text/plain": [
       "<Figure size 576x288 with 1 Axes>"
      ]
     },
     "metadata": {
      "needs_background": "light"
     },
     "output_type": "display_data"
    },
    {
     "data": {
      "image/png": "[encoded data removed]",
      "text/plain": [
       "<Figure size 576x288 with 1 Axes>"
      ]
     },
     "metadata": {
      "needs_background": "light"
     },
     "output_type": "display_data"
    },
    {
     "data": {
      "image/png": "[encoded data removed]",
      "text/plain": [
       "<Figure size 576x288 with 1 Axes>"
      ]
     },
     "metadata": {
      "needs_background": "light"
     },
     "output_type": "display_data"
    },
    {
     "data": {
      "image/png": "[encoded data removed]",
      "text/plain": [
       "<Figure size 576x288 with 1 Axes>"
      ]
     },
     "metadata": {
      "needs_background": "light"
     },
     "output_type": "display_data"
    },
    {
     "data": {
      "image/png": "[encoded data removed]",
      "text/plain": [
       "<Figure size 576x288 with 1 Axes>"
      ]
     },
     "metadata": {
      "needs_background": "light"
     },
     "output_type": "display_data"
    },
    {
     "data": {
      "image/png": "[encoded data removed]",
      "text/plain": [
       "<Figure size 576x288 with 1 Axes>"
      ]
     },
     "metadata": {
      "needs_background": "light"
     },
     "output_type": "display_data"
    },
    {
     "data": {
      "image/png": "[encoded data removed]",
      "text/plain": [
       "<Figure size 576x288 with 1 Axes>"
      ]
     },
     "metadata": {
      "needs_background": "light"
     },
     "output_type": "display_data"
    },
    {
     "data": {
      "image/png": "[encoded data removed]",
      "text/plain": [
       "<Figure size 576x288 with 1 Axes>"
      ]
     },
     "metadata": {
      "needs_background": "light"
     },
     "output_type": "display_data"
    },
    {
     "data": {
      "image/png": "[encoded data removed]",
      "text/plain": [
       "<Figure size 576x288 with 1 Axes>"
      ]
     },
     "metadata": {
      "needs_background": "light"
     },
     "output_type": "display_data"
    },
    {
     "data": {
      "image/png": "[encoded data removed]",
      "text/plain": [
       "<Figure size 576x288 with 1 Axes>"
      ]
     },
     "metadata": {
      "needs_background": "light"
     },
     "output_type": "display_data"
    },
    {
     "data": {
      "image/png": "[encoded data removed]",
      "text/plain": [
       "<Figure size 576x288 with 1 Axes>"
      ]
     },
     "metadata": {
      "needs_background": "light"
     },
     "output_type": "display_data"
    },
    {
     "data": {
      "image/png": "[encoded data removed]",
      "text/plain": [
       "<Figure size 576x288 with 1 Axes>"
      ]
     },
     "metadata": {
      "needs_background": "light"
     },
     "output_type": "display_data"
    },
    {
     "data": {
      "image/png": "[encoded data removed]",
      "text/plain": [
       "<Figure size 576x288 with 1 Axes>"
      ]
     },
     "metadata": {
      "needs_background": "light"
     },
     "output_type": "display_data"
    },
    {
     "data": {
      "image/png": "[encoded data removed]",
      "text/plain": [
       "<Figure size 576x288 with 1 Axes>"
      ]
     },
     "metadata": {
      "needs_background": "light"
     },
     "output_type": "display_data"
    },
    {
     "data": {
      "image/png": "[encoded data removed]",
      "text/plain": [
       "<Figure size 576x288 with 1 Axes>"
      ]
     },
     "metadata": {
      "needs_background": "light"
     },
     "output_type": "display_data"
    }
   ],
   "source": [
    "# Visualizations of categorical columns\n",
    "categorical_cols = df.select_dtypes(include=['object']).columns.tolist()\n",
    "categorical_cols.remove('Churn')  # Exclude target variable for now\n",
    "for col in categorical_cols:\n",
    "    plt.figure(figsize=(8, 4))\n",
    "    sns.countplot(data=df, x=col, hue='Churn')\n",
    "    plt.title(f'Distribution of {col} by Churn')\n",
    "    plt.xticks(rotation=45)\n",
    "    plt.tight_layout()\n",
    "    plt.show()"
   ]
  },
  {
   "cell_type": "code",
   "execution_count": 11,
   "id": "d94f8d86",
   "metadata": {},
   "outputs": [
    {
     "name": "stdout",
     "output_type": "stream",
     "text": [
      "Chi-squared test for gender: p-value = 0.4904884707065509\n",
      "Chi-squared test for SeniorCitizen: p-value = 2.4792557203954705e-36\n",
      "Chi-squared test for Partner: p-value = 3.97379757451591e-36\n",
      "Chi-squared test for Dependents: p-value = 2.0196592017051303e-42\n",
      "Chi-squared test for PhoneService: p-value = 0.34992398942431924\n",
      "Chi-squared test for MultipleLines: p-value = 0.0008694082815826175\n",
      "Chi-squared test for InternetService: p-value = 5.831198962237274e-159\n",
      "Chi-squared test for OnlineSecurity: p-value = 1.37424000884718e-46\n",
      "Chi-squared test for OnlineBackup: p-value = 6.259257129714726e-12\n",
      "Chi-squared test for DeviceProtection: p-value = 3.346074945648779e-08\n",
      "Chi-squared test for TechSupport: p-value = 3.2328683255491206e-43\n",
      "Chi-squared test for StreamingTV: p-value = 1.3164336109407092e-07\n",
      "Chi-squared test for StreamingMovies: p-value = 3.857900347663822e-07\n",
      "Chi-squared test for Contract: p-value = 7.326182186265472e-257\n",
      "Chi-squared test for PaperlessBilling: p-value = 8.236203353962564e-58\n",
      "Chi-squared test for PaymentMethod: p-value = 1.4263098511063342e-139\n"
     ]
    }
   ],
   "source": [
    "# Statistical tests for categorical columns to see if they are correlated with the target variable\n",
    "# Using Chi-squared test if p-value > 0.05, the column is independent of the target variable\n",
    "for col in categorical_cols:\n",
    "    contingency_table = pd.crosstab(df[col], df['Churn'])\n",
    "    chi2, p, dof, ex = chi2_contingency(contingency_table)\n",
    "    print(f\"Chi-squared test for {col}: p-value = {p}\")"
   ]
  },
  {
   "cell_type": "code",
   "execution_count": 12,
   "id": "7cfccb64",
   "metadata": {},
   "outputs": [],
   "source": [
    "# Not use the following columns for modeling: gender, PhoneService\n",
    "df = df.drop(columns=['gender', 'PhoneService'])"
   ]
  },
  {
   "cell_type": "markdown",
   "id": "f7cb3149",
   "metadata": {},
   "source": [
    "### Numerical data \n",
    "#### *Multcolinearity*\n",
    "Multicollinearity occurs when two or more independent variables are highly correlated\n",
    "- We use two methods to detect multicollinearity:\n",
    "    1. Correlation Matrix: Shows pairwise correlations\n",
    "    2. VIF (Variance Inflation Factor): Measures how much variance is inflated due to collinearity\n",
    "- Guidelines:\n",
    "    - Strong correlation: |r| > 0.7\n",
    "    - VIF > 5-10 indicates problematic multicollinearity\n",
    "- Why it matters:\n",
    "    - Can make model unstable\n",
    "    - Makes interpretation difficult\n",
    "    - May reduce model accuracy\n",
    "\n",
    "#### *Statistical Significance Analysis of Numerical Features*\n",
    "We analyze the relationship between numerical features and customer churn using multiple statistical approaches:\n",
    "\n",
    "1. **Parametric Test (T-test)**\n",
    "   - Assumes normal distribution\n",
    "   - Tests if means differ between churned and non-churned customers\n",
    "   - Null hypothesis: No difference in means\n",
    "   - Significant if p-value < 0.05\n",
    "\n",
    "2. **Non-parametric Test (Mann-Whitney U)**\n",
    "   - No assumption about distribution\n",
    "   - Tests if distribution differs between groups\n",
    "   - More robust for non-normal distributions\n",
    "   - Significant if p-value < 0.05\n",
    "\n",
    "3. **Visual Analysis**\n",
    "   - Distribution plots by churn status\n",
    "   - Box plots to identify differences and outliers\n",
    "   - Helps validate statistical findings\n",
    "\n",
    "**Interpretation**\n",
    "- Strong Evidence: Feature is significant if both tests show p < 0.05\n",
    "- Moderate Evidence: Feature is significant in one test only\n",
    "- Weak Evidence: No significance in either test (p ≥ 0.05)\n",
    "\n",
    "**Why This Matters**\n",
    "- Helps identify which numerical features truly influence churn\n",
    "- Reduces noise in the model by removing non-significant features\n",
    "- Improves model interpretability and performance\n",
    "- Guides feature selection decisions\n",
    "\n",
    "**Next Steps**\n",
    "- Keep features with strong evidence of significance\n",
    "- Consider features with moderate evidence based on business context\n",
    "- Remove features with weak evidence unless business logic suggests otherwise"
   ]
  },
  {
   "cell_type": "code",
   "execution_count": 13,
   "id": "ad04fe97",
   "metadata": {},
   "outputs": [
    {
     "data": {
      "image/png": "[encoded data removed]",
      "text/plain": [
       "<Figure size 432x288 with 2 Axes>"
      ]
     },
     "metadata": {
      "needs_background": "light"
     },
     "output_type": "display_data"
    }
   ],
   "source": [
    "# Get correlation matrix for numerical columns \n",
    "numerical_cols = df.select_dtypes(include=['float64', 'int64']).columns.tolist()\n",
    "corr_matrix = df[numerical_cols].corr()\n",
    "sns.heatmap(corr_matrix, annot=True, fmt=\".2f\", cmap='coolwarm')\n",
    "plt.title('Correlation Matrix for Numerical Columns')\n",
    "plt.show()"
   ]
  },
  {
   "cell_type": "code",
   "execution_count": 14,
   "id": "a3aad0d9",
   "metadata": {},
   "outputs": [
    {
     "name": "stdout",
     "output_type": "stream",
     "text": [
      "          feature       VIF\n",
      "0          tenure  6.332432\n",
      "1  MonthlyCharges  3.361075\n",
      "2    TotalCharges  8.079181\n"
     ]
    }
   ],
   "source": [
    "# Use VIF to check multicollinearity\n",
    "# We keep columns with VIF < 5 in theory but we will consider a higher threshold if needed here 7 \n",
    "X = df[numerical_cols]\n",
    "vif_data = pd.DataFrame()\n",
    "vif_data[\"feature\"] = X.columns\n",
    "vif_data[\"VIF\"] = [variance_inflation_factor(X.values, i) for i in range(len(X.columns))]\n",
    "print(vif_data)"
   ]
  },
  {
   "cell_type": "code",
   "execution_count": 15,
   "id": "f65897f0",
   "metadata": {},
   "outputs": [
    {
     "name": "stdout",
     "output_type": "stream",
     "text": [
      "T-test for tenure: p-value = 9.437650217574845e-207\n",
      "T-test for MonthlyCharges: p-value = 6.760843117980302e-60\n"
     ]
    }
   ],
   "source": [
    "# Select numeraical columns to keep based on statistical analysis\n",
    "numerical_cols.remove('TotalCharges')  # High VIF\n",
    "\n",
    "# apply t-test to see if the means of the numerical columns are significantly different between the two classes of the target variable\n",
    "for col in numerical_cols:\n",
    "    class_0 = df[df['Churn'] == 'No'][col]\n",
    "    class_1 = df[df['Churn'] == 'Yes'][col]\n",
    "    t_stat, p_value = ttest_ind(class_0, class_1)\n",
    "    print(f\"T-test for {col}: p-value = {p_value}\")"
   ]
  },
  {
   "cell_type": "code",
   "execution_count": 16,
   "id": "9c6d7090",
   "metadata": {},
   "outputs": [
    {
     "data": {
      "image/png": "[encoded data removed]",
      "text/plain": [
       "<Figure size 576x288 with 1 Axes>"
      ]
     },
     "metadata": {
      "needs_background": "light"
     },
     "output_type": "display_data"
    },
    {
     "data": {
      "image/png": "[encoded data removed]",
      "text/plain": [
       "<Figure size 576x288 with 1 Axes>"
      ]
     },
     "metadata": {
      "needs_background": "light"
     },
     "output_type": "display_data"
    }
   ],
   "source": [
    "# Distribution of numerical columns\n",
    "for col in numerical_cols:\n",
    "    plt.figure(figsize=(8, 4))\n",
    "    sns.histplot(data=df, x=col, hue='Churn', kde=True, element='step')\n",
    "    plt.title(f'Distribution of {col} by Churn')\n",
    "    plt.tight_layout()\n",
    "    plt.show()"
   ]
  },
  {
   "cell_type": "code",
   "execution_count": 17,
   "id": "8d64eb54",
   "metadata": {},
   "outputs": [
    {
     "name": "stdout",
     "output_type": "stream",
     "text": [
      "for tenure U-stat = 2494979.0 p-value = 6.043046580882717e-211\n",
      "for MonthlyCharges U-stat = 5986148.5 p-value = 8.467195044548749e-54\n"
     ]
    }
   ],
   "source": [
    "for col in numerical_cols:\n",
    "    yes = df[df['Churn']==\"Yes\"][col]\n",
    "    no = df[df['Churn']==\"No\"][col]\n",
    "\n",
    "    stat, p = mannwhitneyu(yes, no)\n",
    "    print(f\"for {col} U-stat =\", stat, \"p-value =\", p)"
   ]
  },
  {
   "cell_type": "markdown",
   "id": "4cdbf702",
   "metadata": {},
   "source": [
    "## Preprocessing\n",
    "\n",
    "1. Feature Selection Based on Statistical Tests\n",
    "We apply results from our data inspection phase:\n",
    "- **Categorical Features**: Remove features with\n",
    "  - p-value > 0.05 in Chi-square test\n",
    "  - Negligible/Weak Cramer's V association\n",
    "- **Numerical Features**: Remove features with\n",
    "  - High multicollinearity (VIF > 7)\n",
    "  - Non-significant in both t-test and Mann-Whitney U test\n",
    "  - Weak correlation with target variable\n",
    "\n",
    "2. Class Imbalance Handling\n",
    "We address the imbalanced target distribution using two oversampling methods:\n",
    "\n",
    "    *SMOTE (Synthetic Minority Over-sampling Technique)*\n",
    "    - Creates synthetic samples of minority class\n",
    "    - Advantages:\n",
    "        - Reduces overfitting compared to simple oversampling\n",
    "        - Better generalization\n",
    "        - More balanced decision regions\n",
    "\n",
    "    *ADASYN (Adaptive Synthetic Sampling)*\n",
    "    - Similar to SMOTE but focuses on harder-to-learn examples\n",
    "    - Advantages:\n",
    "        - Adaptive density distribution\n",
    "        - More synthetic data for harder-to-learn cases\n",
    "        - Reduces bias introduced by class imbalance\n",
    "\n",
    "3. Data Validation\n",
    "After resampling:\n",
    "- Verify feature significance is maintained\n",
    "- Check for any introduced anomalies\n",
    "- Ensure data quality and relationships are preserved"
   ]
  },
  {
   "cell_type": "code",
   "execution_count": 18,
   "id": "7ff9f8fb",
   "metadata": {},
   "outputs": [
    {
     "name": "stdout",
     "output_type": "stream",
     "text": [
      "58\n"
     ]
    }
   ],
   "source": [
    "# Apply needed preprocessing steps to data \n",
    "data = data.drop(columns=['TotalCharges', 'gender', 'PhoneService'])\n",
    "print(data.duplicated().sum())\n",
    "data = data.drop_duplicates()\n",
    "data['Churn'] = data['Churn'].replace({'Yes': 1, 'No': 0})"
   ]
  },
  {
   "cell_type": "code",
   "execution_count": 19,
   "id": "faeee773",
   "metadata": {},
   "outputs": [
    {
     "data": {
      "text/html": [
       "<div>\n",
       "<style scoped>\n",
       "    .dataframe tbody tr th:only-of-type {\n",
       "        vertical-align: middle;\n",
       "    }\n",
       "\n",
       "    .dataframe tbody tr th {\n",
       "        vertical-align: top;\n",
       "    }\n",
       "\n",
       "    .dataframe thead th {\n",
       "        text-align: right;\n",
       "    }\n",
       "</style>\n",
       "<table border=\"1\" class=\"dataframe\">\n",
       "  <thead>\n",
       "    <tr style=\"text-align: right;\">\n",
       "      <th></th>\n",
       "      <th>SeniorCitizen</th>\n",
       "      <th>tenure</th>\n",
       "      <th>MonthlyCharges</th>\n",
       "      <th>Churn</th>\n",
       "      <th>Partner_Yes</th>\n",
       "      <th>Dependents_Yes</th>\n",
       "      <th>MultipleLines_No phone service</th>\n",
       "      <th>MultipleLines_Yes</th>\n",
       "      <th>InternetService_Fiber optic</th>\n",
       "      <th>InternetService_No</th>\n",
       "      <th>OnlineSecurity_No internet service</th>\n",
       "      <th>OnlineSecurity_Yes</th>\n",
       "      <th>OnlineBackup_No internet service</th>\n",
       "      <th>OnlineBackup_Yes</th>\n",
       "      <th>DeviceProtection_No internet service</th>\n",
       "      <th>DeviceProtection_Yes</th>\n",
       "      <th>TechSupport_No internet service</th>\n",
       "      <th>TechSupport_Yes</th>\n",
       "      <th>StreamingTV_No internet service</th>\n",
       "      <th>StreamingTV_Yes</th>\n",
       "      <th>StreamingMovies_No internet service</th>\n",
       "      <th>StreamingMovies_Yes</th>\n",
       "      <th>Contract_One year</th>\n",
       "      <th>Contract_Two year</th>\n",
       "      <th>PaperlessBilling_Yes</th>\n",
       "      <th>PaymentMethod_Credit card (automatic)</th>\n",
       "      <th>PaymentMethod_Electronic check</th>\n",
       "      <th>PaymentMethod_Mailed check</th>\n",
       "    </tr>\n",
       "    <tr>\n",
       "      <th>customerID</th>\n",
       "      <th></th>\n",
       "      <th></th>\n",
       "      <th></th>\n",
       "      <th></th>\n",
       "      <th></th>\n",
       "      <th></th>\n",
       "      <th></th>\n",
       "      <th></th>\n",
       "      <th></th>\n",
       "      <th></th>\n",
       "      <th></th>\n",
       "      <th></th>\n",
       "      <th></th>\n",
       "      <th></th>\n",
       "      <th></th>\n",
       "      <th></th>\n",
       "      <th></th>\n",
       "      <th></th>\n",
       "      <th></th>\n",
       "      <th></th>\n",
       "      <th></th>\n",
       "      <th></th>\n",
       "      <th></th>\n",
       "      <th></th>\n",
       "      <th></th>\n",
       "      <th></th>\n",
       "      <th></th>\n",
       "      <th></th>\n",
       "    </tr>\n",
       "  </thead>\n",
       "  <tbody>\n",
       "    <tr>\n",
       "      <th>7590-VHVEG</th>\n",
       "      <td>0</td>\n",
       "      <td>1</td>\n",
       "      <td>29.85</td>\n",
       "      <td>0</td>\n",
       "      <td>1</td>\n",
       "      <td>0</td>\n",
       "      <td>1</td>\n",
       "      <td>0</td>\n",
       "      <td>0</td>\n",
       "      <td>0</td>\n",
       "      <td>0</td>\n",
       "      <td>0</td>\n",
       "      <td>0</td>\n",
       "      <td>1</td>\n",
       "      <td>0</td>\n",
       "      <td>0</td>\n",
       "      <td>0</td>\n",
       "      <td>0</td>\n",
       "      <td>0</td>\n",
       "      <td>0</td>\n",
       "      <td>0</td>\n",
       "      <td>0</td>\n",
       "      <td>0</td>\n",
       "      <td>0</td>\n",
       "      <td>1</td>\n",
       "      <td>0</td>\n",
       "      <td>1</td>\n",
       "      <td>0</td>\n",
       "    </tr>\n",
       "    <tr>\n",
       "      <th>5575-GNVDE</th>\n",
       "      <td>0</td>\n",
       "      <td>34</td>\n",
       "      <td>56.95</td>\n",
       "      <td>0</td>\n",
       "      <td>0</td>\n",
       "      <td>0</td>\n",
       "      <td>0</td>\n",
       "      <td>0</td>\n",
       "      <td>0</td>\n",
       "      <td>0</td>\n",
       "      <td>0</td>\n",
       "      <td>1</td>\n",
       "      <td>0</td>\n",
       "      <td>0</td>\n",
       "      <td>0</td>\n",
       "      <td>1</td>\n",
       "      <td>0</td>\n",
       "      <td>0</td>\n",
       "      <td>0</td>\n",
       "      <td>0</td>\n",
       "      <td>0</td>\n",
       "      <td>0</td>\n",
       "      <td>1</td>\n",
       "      <td>0</td>\n",
       "      <td>0</td>\n",
       "      <td>0</td>\n",
       "      <td>0</td>\n",
       "      <td>1</td>\n",
       "    </tr>\n",
       "    <tr>\n",
       "      <th>3668-QPYBK</th>\n",
       "      <td>0</td>\n",
       "      <td>2</td>\n",
       "      <td>53.85</td>\n",
       "      <td>1</td>\n",
       "      <td>0</td>\n",
       "      <td>0</td>\n",
       "      <td>0</td>\n",
       "      <td>0</td>\n",
       "      <td>0</td>\n",
       "      <td>0</td>\n",
       "      <td>0</td>\n",
       "      <td>1</td>\n",
       "      <td>0</td>\n",
       "      <td>1</td>\n",
       "      <td>0</td>\n",
       "      <td>0</td>\n",
       "      <td>0</td>\n",
       "      <td>0</td>\n",
       "      <td>0</td>\n",
       "      <td>0</td>\n",
       "      <td>0</td>\n",
       "      <td>0</td>\n",
       "      <td>0</td>\n",
       "      <td>0</td>\n",
       "      <td>1</td>\n",
       "      <td>0</td>\n",
       "      <td>0</td>\n",
       "      <td>1</td>\n",
       "    </tr>\n",
       "    <tr>\n",
       "      <th>7795-CFOCW</th>\n",
       "      <td>0</td>\n",
       "      <td>45</td>\n",
       "      <td>42.30</td>\n",
       "      <td>0</td>\n",
       "      <td>0</td>\n",
       "      <td>0</td>\n",
       "      <td>1</td>\n",
       "      <td>0</td>\n",
       "      <td>0</td>\n",
       "      <td>0</td>\n",
       "      <td>0</td>\n",
       "      <td>1</td>\n",
       "      <td>0</td>\n",
       "      <td>0</td>\n",
       "      <td>0</td>\n",
       "      <td>1</td>\n",
       "      <td>0</td>\n",
       "      <td>1</td>\n",
       "      <td>0</td>\n",
       "      <td>0</td>\n",
       "      <td>0</td>\n",
       "      <td>0</td>\n",
       "      <td>1</td>\n",
       "      <td>0</td>\n",
       "      <td>0</td>\n",
       "      <td>0</td>\n",
       "      <td>0</td>\n",
       "      <td>0</td>\n",
       "    </tr>\n",
       "    <tr>\n",
       "      <th>9237-HQITU</th>\n",
       "      <td>0</td>\n",
       "      <td>2</td>\n",
       "      <td>70.70</td>\n",
       "      <td>1</td>\n",
       "      <td>0</td>\n",
       "      <td>0</td>\n",
       "      <td>0</td>\n",
       "      <td>0</td>\n",
       "      <td>1</td>\n",
       "      <td>0</td>\n",
       "      <td>0</td>\n",
       "      <td>0</td>\n",
       "      <td>0</td>\n",
       "      <td>0</td>\n",
       "      <td>0</td>\n",
       "      <td>0</td>\n",
       "      <td>0</td>\n",
       "      <td>0</td>\n",
       "      <td>0</td>\n",
       "      <td>0</td>\n",
       "      <td>0</td>\n",
       "      <td>0</td>\n",
       "      <td>0</td>\n",
       "      <td>0</td>\n",
       "      <td>1</td>\n",
       "      <td>0</td>\n",
       "      <td>1</td>\n",
       "      <td>0</td>\n",
       "    </tr>\n",
       "  </tbody>\n",
       "</table>\n",
       "</div>"
      ],
      "text/plain": [
       "            SeniorCitizen  tenure  MonthlyCharges  Churn  Partner_Yes  \\\n",
       "customerID                                                              \n",
       "7590-VHVEG              0       1           29.85      0            1   \n",
       "5575-GNVDE              0      34           56.95      0            0   \n",
       "3668-QPYBK              0       2           53.85      1            0   \n",
       "7795-CFOCW              0      45           42.30      0            0   \n",
       "9237-HQITU              0       2           70.70      1            0   \n",
       "\n",
       "            Dependents_Yes  MultipleLines_No phone service  MultipleLines_Yes  \\\n",
       "customerID                                                                      \n",
       "7590-VHVEG               0                               1                  0   \n",
       "5575-GNVDE               0                               0                  0   \n",
       "3668-QPYBK               0                               0                  0   \n",
       "7795-CFOCW               0                               1                  0   \n",
       "9237-HQITU               0                               0                  0   \n",
       "\n",
       "            InternetService_Fiber optic  InternetService_No  \\\n",
       "customerID                                                    \n",
       "7590-VHVEG                            0                   0   \n",
       "5575-GNVDE                            0                   0   \n",
       "3668-QPYBK                            0                   0   \n",
       "7795-CFOCW                            0                   0   \n",
       "9237-HQITU                            1                   0   \n",
       "\n",
       "            OnlineSecurity_No internet service  OnlineSecurity_Yes  \\\n",
       "customerID                                                           \n",
       "7590-VHVEG                                   0                   0   \n",
       "5575-GNVDE                                   0                   1   \n",
       "3668-QPYBK                                   0                   1   \n",
       "7795-CFOCW                                   0                   1   \n",
       "9237-HQITU                                   0                   0   \n",
       "\n",
       "            OnlineBackup_No internet service  OnlineBackup_Yes  \\\n",
       "customerID                                                       \n",
       "7590-VHVEG                                 0                 1   \n",
       "5575-GNVDE                                 0                 0   \n",
       "3668-QPYBK                                 0                 1   \n",
       "7795-CFOCW                                 0                 0   \n",
       "9237-HQITU                                 0                 0   \n",
       "\n",
       "            DeviceProtection_No internet service  DeviceProtection_Yes  \\\n",
       "customerID                                                               \n",
       "7590-VHVEG                                     0                     0   \n",
       "5575-GNVDE                                     0                     1   \n",
       "3668-QPYBK                                     0                     0   \n",
       "7795-CFOCW                                     0                     1   \n",
       "9237-HQITU                                     0                     0   \n",
       "\n",
       "            TechSupport_No internet service  TechSupport_Yes  \\\n",
       "customerID                                                     \n",
       "7590-VHVEG                                0                0   \n",
       "5575-GNVDE                                0                0   \n",
       "3668-QPYBK                                0                0   \n",
       "7795-CFOCW                                0                1   \n",
       "9237-HQITU                                0                0   \n",
       "\n",
       "            StreamingTV_No internet service  StreamingTV_Yes  \\\n",
       "customerID                                                     \n",
       "7590-VHVEG                                0                0   \n",
       "5575-GNVDE                                0                0   \n",
       "3668-QPYBK                                0                0   \n",
       "7795-CFOCW                                0                0   \n",
       "9237-HQITU                                0                0   \n",
       "\n",
       "            StreamingMovies_No internet service  StreamingMovies_Yes  \\\n",
       "customerID                                                             \n",
       "7590-VHVEG                                    0                    0   \n",
       "5575-GNVDE                                    0                    0   \n",
       "3668-QPYBK                                    0                    0   \n",
       "7795-CFOCW                                    0                    0   \n",
       "9237-HQITU                                    0                    0   \n",
       "\n",
       "            Contract_One year  Contract_Two year  PaperlessBilling_Yes  \\\n",
       "customerID                                                               \n",
       "7590-VHVEG                  0                  0                     1   \n",
       "5575-GNVDE                  1                  0                     0   \n",
       "3668-QPYBK                  0                  0                     1   \n",
       "7795-CFOCW                  1                  0                     0   \n",
       "9237-HQITU                  0                  0                     1   \n",
       "\n",
       "            PaymentMethod_Credit card (automatic)  \\\n",
       "customerID                                          \n",
       "7590-VHVEG                                      0   \n",
       "5575-GNVDE                                      0   \n",
       "3668-QPYBK                                      0   \n",
       "7795-CFOCW                                      0   \n",
       "9237-HQITU                                      0   \n",
       "\n",
       "            PaymentMethod_Electronic check  PaymentMethod_Mailed check  \n",
       "customerID                                                              \n",
       "7590-VHVEG                               1                           0  \n",
       "5575-GNVDE                               0                           1  \n",
       "3668-QPYBK                               0                           1  \n",
       "7795-CFOCW                               0                           0  \n",
       "9237-HQITU                               1                           0  "
      ]
     },
     "execution_count": 19,
     "metadata": {},
     "output_type": "execute_result"
    }
   ],
   "source": [
    "# Get dummy variables for categorical columns\n",
    "data = pd.get_dummies(data, drop_first=True)\n",
    "data.head()"
   ]
  },
  {
   "cell_type": "code",
   "execution_count": 20,
   "id": "6e95bf13",
   "metadata": {},
   "outputs": [
    {
     "name": "stdout",
     "output_type": "stream",
     "text": [
      "Original class distribution: Counter({0: 5140, 1: 1845})\n"
     ]
    },
    {
     "name": "stderr",
     "output_type": "stream",
     "text": [
      "C:\\Users\\sofia\\AppData\\Local\\Packages\\PythonSoftwareFoundation.Python.3.9_qbz5n2kfra8p0\\LocalCache\\local-packages\\Python39\\site-packages\\sklearn\\base.py:474: FutureWarning: `BaseEstimator._validate_data` is deprecated in 1.6 and will be removed in 1.7. Use `sklearn.utils.validation.validate_data` instead. This function becomes public and is part of the scikit-learn developer API.\n",
      "  warnings.warn(\n"
     ]
    },
    {
     "name": "stdout",
     "output_type": "stream",
     "text": [
      "Resampled class distribution SMOTE: Counter({0: 5140, 1: 5140})\n",
      "Resampled class distribution ADASYN: Counter({0: 5140, 1: 5078})\n"
     ]
    },
    {
     "name": "stderr",
     "output_type": "stream",
     "text": [
      "C:\\Users\\sofia\\AppData\\Local\\Packages\\PythonSoftwareFoundation.Python.3.9_qbz5n2kfra8p0\\LocalCache\\local-packages\\Python39\\site-packages\\sklearn\\base.py:474: FutureWarning: `BaseEstimator._validate_data` is deprecated in 1.6 and will be removed in 1.7. Use `sklearn.utils.validation.validate_data` instead. This function becomes public and is part of the scikit-learn developer API.\n",
      "  warnings.warn(\n"
     ]
    }
   ],
   "source": [
    "# Handle umbalanced target variable by oversampling the minority class Use Adasyn or SMOTE\n",
    "X = data.drop(columns=['Churn'])\n",
    "y = data['Churn']\n",
    "print(f\"Original class distribution: {Counter(y)}\")\n",
    "\n",
    "# Smote\n",
    "smote = SMOTE(random_state=42)\n",
    "X_res_smote, y_res_smote = smote.fit_resample(X, y)\n",
    "print(f\"Resampled class distribution SMOTE: {Counter(y_res_smote)}\")\n",
    "\n",
    "# Adasyn\n",
    "adasyn = ADASYN(random_state=42)\n",
    "X_res_adasyn, y_res_adasyn = adasyn.fit_resample(X, y)\n",
    "print(f\"Resampled class distribution ADASYN: {Counter(y_res_adasyn)}\")"
   ]
  },
  {
   "cell_type": "code",
   "execution_count": 21,
   "id": "14b2cce0",
   "metadata": {},
   "outputs": [
    {
     "name": "stdout",
     "output_type": "stream",
     "text": [
      "\n",
      "Statistical tests for SMOTE resampled data:\n",
      "Chi-squared test for Partner_Yes: p-value = 6.753731553634597e-186\n",
      "Chi-squared test for Dependents_Yes: p-value = 1.2301242896799912e-199\n",
      "Chi-squared test for MultipleLines_No phone service: p-value = 0.0004219446194393751\n",
      "Chi-squared test for MultipleLines_Yes: p-value = 0.3663735641132603\n",
      "Chi-squared test for InternetService_Fiber optic: p-value = 1.6499143714487665e-276\n",
      "Chi-squared test for InternetService_No: p-value = 4.350451666541194e-205\n",
      "Chi-squared test for OnlineSecurity_No internet service: p-value = 4.350451666541194e-205\n",
      "Chi-squared test for OnlineSecurity_Yes: p-value = 1.611257207446553e-205\n",
      "Chi-squared test for OnlineBackup_No internet service: p-value = 4.350451666541194e-205\n",
      "Chi-squared test for OnlineBackup_Yes: p-value = 3.6340367929532096e-95\n",
      "Chi-squared test for DeviceProtection_No internet service: p-value = 4.350451666541194e-205\n",
      "Chi-squared test for DeviceProtection_Yes: p-value = 1.8898479657366174e-64\n",
      "Chi-squared test for TechSupport_No internet service: p-value = 4.350451666541194e-205\n",
      "Chi-squared test for TechSupport_Yes: p-value = 2.5567048932872395e-184\n",
      "Chi-squared test for StreamingTV_No internet service: p-value = 4.350451666541194e-205\n",
      "Chi-squared test for StreamingTV_Yes: p-value = 0.02955667892010708\n",
      "Chi-squared test for StreamingMovies_No internet service: p-value = 4.350451666541194e-205\n",
      "Chi-squared test for StreamingMovies_Yes: p-value = 0.0706425243261366\n",
      "Chi-squared test for Contract_One year: p-value = 6.215037987450733e-184\n",
      "Chi-squared test for Contract_Two year: p-value = 0.0\n",
      "Chi-squared test for PaperlessBilling_Yes: p-value = 9.058926833550183e-51\n",
      "Chi-squared test for PaymentMethod_Credit card (automatic): p-value = 7.988620830253646e-146\n",
      "Chi-squared test for PaymentMethod_Electronic check: p-value = 2.395917478018276e-140\n",
      "Chi-squared test for PaymentMethod_Mailed check: p-value = 4.730392520695608e-76\n",
      "T-test for tenure: p-value = 0.0\n",
      "T-test for MonthlyCharges: p-value = 1.2944017999643605e-106\n",
      "\n",
      "Statistical tests for ADASYN resampled data:\n",
      "Chi-squared test for Partner_Yes: p-value = 2.07671555783936e-154\n",
      "Chi-squared test for Dependents_Yes: p-value = 3.109325659358284e-186\n",
      "Chi-squared test for MultipleLines_No phone service: p-value = 0.17709664061521935\n",
      "Chi-squared test for MultipleLines_Yes: p-value = 0.00018593550673141608\n",
      "Chi-squared test for InternetService_Fiber optic: p-value = 6.071589926158043e-154\n",
      "Chi-squared test for InternetService_No: p-value = 5.112772450752182e-149\n",
      "Chi-squared test for OnlineSecurity_No internet service: p-value = 5.112772450752182e-149\n",
      "Chi-squared test for OnlineSecurity_Yes: p-value = 1.607796542936077e-176\n",
      "Chi-squared test for OnlineBackup_No internet service: p-value = 5.112772450752182e-149\n",
      "Chi-squared test for OnlineBackup_Yes: p-value = 9.934319873976591e-64\n",
      "Chi-squared test for DeviceProtection_No internet service: p-value = 5.112772450752182e-149\n",
      "Chi-squared test for DeviceProtection_Yes: p-value = 1.0159522798825481e-60\n",
      "Chi-squared test for TechSupport_No internet service: p-value = 5.112772450752182e-149\n",
      "Chi-squared test for TechSupport_Yes: p-value = 2.3478884074061455e-163\n",
      "Chi-squared test for StreamingTV_No internet service: p-value = 5.112772450752182e-149\n",
      "Chi-squared test for StreamingTV_Yes: p-value = 0.4294735018268594\n",
      "Chi-squared test for StreamingMovies_No internet service: p-value = 5.112772450752182e-149\n",
      "Chi-squared test for StreamingMovies_Yes: p-value = 0.3866377015594392\n",
      "Chi-squared test for Contract_One year: p-value = 1.0301149298528543e-162\n",
      "Chi-squared test for Contract_Two year: p-value = 0.0\n",
      "Chi-squared test for PaperlessBilling_Yes: p-value = 1.7395887568323e-21\n",
      "Chi-squared test for PaymentMethod_Credit card (automatic): p-value = 2.4451002367090006e-139\n",
      "Chi-squared test for PaymentMethod_Electronic check: p-value = 1.4870316053082468e-72\n",
      "Chi-squared test for PaymentMethod_Mailed check: p-value = 8.571813918478391e-61\n",
      "T-test for tenure: p-value = 6.2064696896512525e-252\n",
      "T-test for MonthlyCharges: p-value = 7.683773689695561e-65\n"
     ]
    }
   ],
   "source": [
    "# Reuse statistical tests to check if the resampled data is still correlated with the target variable\n",
    "data_res_smote = pd.concat([X_res_smote, y_res_smote], axis=1)\n",
    "data_res_adasyn = pd.concat([X_res_adasyn, y_res_adasyn], axis=1)\n",
    "\n",
    "new_categorical_cols = [col for col in data_res_smote.select_dtypes(include=['uint8']).columns if col != 'Churn']\n",
    "\n",
    "dict_resampled = {'SMOTE': (data_res_smote, []) , 'ADASYN': (data_res_adasyn, [])}\n",
    "for method, (dataset, cols_to_delete) in dict_resampled.items():\n",
    "    print(f\"\\nStatistical tests for {method} resampled data:\")\n",
    "    for col in new_categorical_cols:\n",
    "        contingency_table = pd.crosstab(dataset[col], dataset['Churn'])\n",
    "        chi2, p, dof, ex = chi2_contingency(contingency_table)\n",
    "        if p > 0.05:\n",
    "            cols_to_delete.append(col)\n",
    "        print(f\"Chi-squared test for {col}: p-value = {p}\")\n",
    "    for col in numerical_cols:\n",
    "        class_0 = dataset[dataset['Churn'] == 0][col]\n",
    "        class_1 = dataset[dataset['Churn'] == 1][col]\n",
    "        t_stat, p_value = mannwhitneyu(class_0, class_1)\n",
    "        if p_value > 0.05:\n",
    "            cols_to_delete.append(col)\n",
    "        print(f\"T-test for {col}: p-value = {p_value}\")"
   ]
  },
  {
   "cell_type": "code",
   "execution_count": 22,
   "id": "b65eb8ea",
   "metadata": {},
   "outputs": [
    {
     "name": "stdout",
     "output_type": "stream",
     "text": [
      "\n",
      "Columns to delete for SMOTE resampled data: ['MultipleLines_Yes', 'StreamingMovies_Yes']\n",
      "\n",
      "Columns to delete for ADASYN resampled data: ['MultipleLines_No phone service', 'StreamingTV_Yes', 'StreamingMovies_Yes']\n"
     ]
    }
   ],
   "source": [
    "# Print columns to delete for each method\n",
    "for method, (dataset, cols_to_delete) in dict_resampled.items():\n",
    "    print(f\"\\nColumns to delete for {method} resampled data: {cols_to_delete}\")"
   ]
  },
  {
   "cell_type": "code",
   "execution_count": 23,
   "id": "a9c2d820",
   "metadata": {},
   "outputs": [],
   "source": [
    "# Update data by removing the columns that are not correlated with the target variable\n",
    "for method, (dataset, cols_to_delete) in dict_resampled.items():\n",
    "    dataset.drop(columns=cols_to_delete, inplace=True)\n",
    "    dict_resampled[method] = (dataset, cols_to_delete)"
   ]
  },
  {
   "cell_type": "markdown",
   "id": "0300902d",
   "metadata": {},
   "source": [
    "## Training Models\n",
    "\n",
    "We evaluate multiple tree-based models for customer churn prediction:\n",
    "\n",
    "### Model Selection\n",
    "We chose tree-based models for their:\n",
    "- Ability to handle non-linear relationships\n",
    "- Built-in feature importance\n",
    "- Robustness to outliers\n",
    "- Strong performance on tabular data\n",
    "\n",
    "### Models Overview\n",
    "\n",
    "1. **RandomForest**\n",
    "   - Ensemble of decision trees\n",
    "   - Advantages:\n",
    "     - Less prone to overfitting\n",
    "     - Good feature importance insights\n",
    "     - Handles missing values well\n",
    "\n",
    "2. **XGBoost**\n",
    "   - Gradient boosting implementation\n",
    "   - Advantages:\n",
    "     - High performance\n",
    "     - Speed and efficiency\n",
    "     - Regularization included\n",
    "\n",
    "3. **CatBoost**\n",
    "   - Specialized for categorical features\n",
    "   - Advantages:\n",
    "     - Handles categorical variables automatically(not used here cause for resampling we need numerical values)\n",
    "     - Reduces overfitting\n",
    "     - Good for imbalanced data\n",
    "\n",
    "4. **LightGBM**\n",
    "   - Light Gradient Boosting Machine\n",
    "   - Advantages:\n",
    "     - Faster training speed\n",
    "     - Lower memory usage\n",
    "     - Better accuracy on large datasets\n",
    "\n",
    "### Evaluation Strategy\n",
    "- Cross-validation with 5 folds\n",
    "- Metrics:\n",
    "  - F1-Score (primary metric)\n",
    "  - Accuracy\n",
    "  - Precision\n",
    "  - Recall\n",
    "  - ROC-AUC\n",
    "\n",
    "### Validation Process\n",
    "- Split: 80% training, 20% test\n",
    "- Stratified sampling to maintain class distribution\n",
    "- Independent evaluation for each resampling method (SMOTE/ADASYN)"
   ]
  },
  {
   "cell_type": "code",
   "execution_count": 24,
   "id": "58355d78",
   "metadata": {},
   "outputs": [
    {
     "name": "stdout",
     "output_type": "stream",
     "text": [
      "\n",
      "Classification Report for RandomForest with SMOTE resampling:\n",
      "              precision    recall  f1-score   support\n",
      "\n",
      "           0       0.84      0.84      0.84      1028\n",
      "           1       0.84      0.84      0.84      1028\n",
      "\n",
      "    accuracy                           0.84      2056\n",
      "   macro avg       0.84      0.84      0.84      2056\n",
      "weighted avg       0.84      0.84      0.84      2056\n",
      "\n",
      "Confusion Matrix:\n"
     ]
    },
    {
     "data": {
      "image/png": "[encoded data removed]",
      "text/plain": [
       "<Figure size 432x288 with 2 Axes>"
      ]
     },
     "metadata": {
      "needs_background": "light"
     },
     "output_type": "display_data"
    },
    {
     "name": "stdout",
     "output_type": "stream",
     "text": [
      "\n",
      "Classification Report for XGBoost with SMOTE resampling:\n",
      "              precision    recall  f1-score   support\n",
      "\n",
      "           0       0.85      0.83      0.84      1028\n",
      "           1       0.84      0.86      0.85      1028\n",
      "\n",
      "    accuracy                           0.84      2056\n",
      "   macro avg       0.84      0.84      0.84      2056\n",
      "weighted avg       0.84      0.84      0.84      2056\n",
      "\n",
      "Confusion Matrix:\n"
     ]
    },
    {
     "data": {
      "image/png": "[encoded data removed]",
      "text/plain": [
       "<Figure size 432x288 with 2 Axes>"
      ]
     },
     "metadata": {
      "needs_background": "light"
     },
     "output_type": "display_data"
    },
    {
     "name": "stdout",
     "output_type": "stream",
     "text": [
      "\n",
      "Classification Report for CatBoost with SMOTE resampling:\n",
      "              precision    recall  f1-score   support\n",
      "\n",
      "           0       0.85      0.82      0.83      1028\n",
      "           1       0.82      0.86      0.84      1028\n",
      "\n",
      "    accuracy                           0.84      2056\n",
      "   macro avg       0.84      0.84      0.84      2056\n",
      "weighted avg       0.84      0.84      0.84      2056\n",
      "\n",
      "Confusion Matrix:\n"
     ]
    },
    {
     "data": {
      "image/png": "[encoded data removed]",
      "text/plain": [
       "<Figure size 432x288 with 2 Axes>"
      ]
     },
     "metadata": {
      "needs_background": "light"
     },
     "output_type": "display_data"
    },
    {
     "name": "stdout",
     "output_type": "stream",
     "text": [
      "[LightGBM] [Warning] Found whitespace in feature_names, replace with underlines\n",
      "[LightGBM] [Info] Number of positive: 3290, number of negative: 3289\n",
      "[LightGBM] [Info] Auto-choosing row-wise multi-threading, the overhead of testing was 0.000528 seconds.\n",
      "You can set `force_row_wise=true` to remove the overhead.\n",
      "And if memory is not enough, you can set `force_col_wise=true`.\n",
      "[LightGBM] [Info] Total Bins 374\n",
      "[LightGBM] [Info] Number of data points in the train set: 6579, number of used features: 25\n",
      "[LightGBM] [Info] [binary:BoostFromScore]: pavg=0.500076 -> initscore=0.000304\n",
      "[LightGBM] [Info] Start training from score 0.000304\n",
      "[LightGBM] [Warning] Found whitespace in feature_names, replace with underlines\n",
      "[LightGBM] [Info] Number of positive: 3290, number of negative: 3289\n",
      "[LightGBM] [Info] Auto-choosing row-wise multi-threading, the overhead of testing was 0.000504 seconds.\n",
      "You can set `force_row_wise=true` to remove the overhead.\n",
      "And if memory is not enough, you can set `force_col_wise=true`.\n",
      "[LightGBM] [Info] Total Bins 374\n",
      "[LightGBM] [Info] Number of data points in the train set: 6579, number of used features: 25\n",
      "[LightGBM] [Info] [binary:BoostFromScore]: pavg=0.500076 -> initscore=0.000304\n",
      "[LightGBM] [Info] Start training from score 0.000304\n",
      "[LightGBM] [Warning] Found whitespace in feature_names, replace with underlines\n",
      "[LightGBM] [Info] Number of positive: 3289, number of negative: 3290\n",
      "[LightGBM] [Info] Auto-choosing row-wise multi-threading, the overhead of testing was 0.000564 seconds.\n",
      "You can set `force_row_wise=true` to remove the overhead.\n",
      "And if memory is not enough, you can set `force_col_wise=true`.\n",
      "[LightGBM] [Info] Total Bins 374\n",
      "[LightGBM] [Info] Number of data points in the train set: 6579, number of used features: 25\n",
      "[LightGBM] [Info] [binary:BoostFromScore]: pavg=0.499924 -> initscore=-0.000304\n",
      "[LightGBM] [Info] Start training from score -0.000304\n",
      "[LightGBM] [Warning] Found whitespace in feature_names, replace with underlines\n",
      "[LightGBM] [Info] Number of positive: 3289, number of negative: 3290\n",
      "[LightGBM] [Info] Auto-choosing row-wise multi-threading, the overhead of testing was 0.000519 seconds.\n",
      "You can set `force_row_wise=true` to remove the overhead.\n",
      "And if memory is not enough, you can set `force_col_wise=true`.\n",
      "[LightGBM] [Info] Total Bins 374\n",
      "[LightGBM] [Info] Number of data points in the train set: 6579, number of used features: 25\n",
      "[LightGBM] [Info] [binary:BoostFromScore]: pavg=0.499924 -> initscore=-0.000304\n",
      "[LightGBM] [Info] Start training from score -0.000304\n",
      "[LightGBM] [Warning] Found whitespace in feature_names, replace with underlines\n",
      "[LightGBM] [Info] Number of positive: 3290, number of negative: 3290\n",
      "[LightGBM] [Info] Auto-choosing row-wise multi-threading, the overhead of testing was 0.000532 seconds.\n",
      "You can set `force_row_wise=true` to remove the overhead.\n",
      "And if memory is not enough, you can set `force_col_wise=true`.\n",
      "[LightGBM] [Info] Total Bins 374\n",
      "[LightGBM] [Info] Number of data points in the train set: 6580, number of used features: 25\n",
      "[LightGBM] [Info] [binary:BoostFromScore]: pavg=0.500000 -> initscore=0.000000\n",
      "[LightGBM] [Warning] Found whitespace in feature_names, replace with underlines\n",
      "[LightGBM] [Info] Number of positive: 4112, number of negative: 4112\n",
      "[LightGBM] [Info] Auto-choosing row-wise multi-threading, the overhead of testing was 0.000574 seconds.\n",
      "You can set `force_row_wise=true` to remove the overhead.\n",
      "And if memory is not enough, you can set `force_col_wise=true`.\n",
      "[LightGBM] [Info] Total Bins 374\n",
      "[LightGBM] [Info] Number of data points in the train set: 8224, number of used features: 25\n",
      "[LightGBM] [Info] [binary:BoostFromScore]: pavg=0.500000 -> initscore=0.000000\n",
      "\n",
      "Classification Report for LightGBM with SMOTE resampling:\n",
      "              precision    recall  f1-score   support\n",
      "\n",
      "           0       0.84      0.83      0.84      1028\n",
      "           1       0.83      0.84      0.84      1028\n",
      "\n",
      "    accuracy                           0.84      2056\n",
      "   macro avg       0.84      0.84      0.84      2056\n",
      "weighted avg       0.84      0.84      0.84      2056\n",
      "\n",
      "Confusion Matrix:\n"
     ]
    },
    {
     "data": {
      "image/png": "[encoded data removed]",
      "text/plain": [
       "<Figure size 432x288 with 2 Axes>"
      ]
     },
     "metadata": {
      "needs_background": "light"
     },
     "output_type": "display_data"
    },
    {
     "name": "stdout",
     "output_type": "stream",
     "text": [
      "\n",
      "Classification Report for RandomForest with ADASYN resampling:\n",
      "              precision    recall  f1-score   support\n",
      "\n",
      "           0       0.83      0.82      0.82      1028\n",
      "           1       0.82      0.83      0.83      1016\n",
      "\n",
      "    accuracy                           0.83      2044\n",
      "   macro avg       0.83      0.83      0.83      2044\n",
      "weighted avg       0.83      0.83      0.83      2044\n",
      "\n",
      "Confusion Matrix:\n"
     ]
    },
    {
     "data": {
      "image/png": "[encoded data removed]",
      "text/plain": [
       "<Figure size 432x288 with 2 Axes>"
      ]
     },
     "metadata": {
      "needs_background": "light"
     },
     "output_type": "display_data"
    },
    {
     "name": "stdout",
     "output_type": "stream",
     "text": [
      "\n",
      "Classification Report for XGBoost with ADASYN resampling:\n",
      "              precision    recall  f1-score   support\n",
      "\n",
      "           0       0.86      0.81      0.83      1028\n",
      "           1       0.82      0.86      0.84      1016\n",
      "\n",
      "    accuracy                           0.84      2044\n",
      "   macro avg       0.84      0.84      0.84      2044\n",
      "weighted avg       0.84      0.84      0.84      2044\n",
      "\n",
      "Confusion Matrix:\n"
     ]
    },
    {
     "data": {
      "image/png": "[encoded data removed]",
      "text/plain": [
       "<Figure size 432x288 with 2 Axes>"
      ]
     },
     "metadata": {
      "needs_background": "light"
     },
     "output_type": "display_data"
    },
    {
     "name": "stdout",
     "output_type": "stream",
     "text": [
      "\n",
      "Classification Report for CatBoost with ADASYN resampling:\n",
      "              precision    recall  f1-score   support\n",
      "\n",
      "           0       0.86      0.80      0.83      1028\n",
      "           1       0.81      0.87      0.84      1016\n",
      "\n",
      "    accuracy                           0.84      2044\n",
      "   macro avg       0.84      0.84      0.83      2044\n",
      "weighted avg       0.84      0.84      0.83      2044\n",
      "\n",
      "Confusion Matrix:\n"
     ]
    },
    {
     "data": {
      "image/png": "[encoded data removed]",
      "text/plain": [
       "<Figure size 432x288 with 2 Axes>"
      ]
     },
     "metadata": {
      "needs_background": "light"
     },
     "output_type": "display_data"
    },
    {
     "name": "stdout",
     "output_type": "stream",
     "text": [
      "[LightGBM] [Warning] Found whitespace in feature_names, replace with underlines\n",
      "[LightGBM] [Info] Number of positive: 3249, number of negative: 3290\n",
      "[LightGBM] [Info] Auto-choosing row-wise multi-threading, the overhead of testing was 0.000744 seconds.\n",
      "You can set `force_row_wise=true` to remove the overhead.\n",
      "And if memory is not enough, you can set `force_col_wise=true`.\n",
      "[LightGBM] [Info] Total Bins 372\n",
      "[LightGBM] [Info] Number of data points in the train set: 6539, number of used features: 24\n",
      "[LightGBM] [Info] [binary:BoostFromScore]: pavg=0.496865 -> initscore=-0.012540\n",
      "[LightGBM] [Info] Start training from score -0.012540\n",
      "[LightGBM] [Warning] Found whitespace in feature_names, replace with underlines\n",
      "[LightGBM] [Info] Number of positive: 3249, number of negative: 3290\n",
      "[LightGBM] [Info] Auto-choosing row-wise multi-threading, the overhead of testing was 0.000717 seconds.\n",
      "You can set `force_row_wise=true` to remove the overhead.\n",
      "And if memory is not enough, you can set `force_col_wise=true`.\n",
      "[LightGBM] [Info] Total Bins 372\n",
      "[LightGBM] [Info] Number of data points in the train set: 6539, number of used features: 24\n",
      "[LightGBM] [Info] [binary:BoostFromScore]: pavg=0.496865 -> initscore=-0.012540\n",
      "[LightGBM] [Info] Start training from score -0.012540\n",
      "[LightGBM] [Warning] Found whitespace in feature_names, replace with underlines\n",
      "[LightGBM] [Info] Number of positive: 3250, number of negative: 3289\n",
      "[LightGBM] [Info] Auto-choosing row-wise multi-threading, the overhead of testing was 0.000657 seconds.\n",
      "You can set `force_row_wise=true` to remove the overhead.\n",
      "And if memory is not enough, you can set `force_col_wise=true`.\n",
      "[LightGBM] [Info] Total Bins 372\n",
      "[LightGBM] [Info] Number of data points in the train set: 6539, number of used features: 24\n",
      "[LightGBM] [Info] [binary:BoostFromScore]: pavg=0.497018 -> initscore=-0.011929\n",
      "[LightGBM] [Info] Start training from score -0.011929\n",
      "[LightGBM] [Warning] Found whitespace in feature_names, replace with underlines\n",
      "[LightGBM] [Info] Number of positive: 3250, number of negative: 3289\n",
      "[LightGBM] [Info] Auto-choosing row-wise multi-threading, the overhead of testing was 0.000646 seconds.\n",
      "You can set `force_row_wise=true` to remove the overhead.\n",
      "And if memory is not enough, you can set `force_col_wise=true`.\n",
      "[LightGBM] [Info] Total Bins 372\n",
      "[LightGBM] [Info] Number of data points in the train set: 6539, number of used features: 24\n",
      "[LightGBM] [Info] [binary:BoostFromScore]: pavg=0.497018 -> initscore=-0.011929\n",
      "[LightGBM] [Info] Start training from score -0.011929\n",
      "[LightGBM] [Warning] Found whitespace in feature_names, replace with underlines\n",
      "[LightGBM] [Info] Number of positive: 3250, number of negative: 3290\n",
      "[LightGBM] [Info] Auto-choosing row-wise multi-threading, the overhead of testing was 0.000563 seconds.\n",
      "You can set `force_row_wise=true` to remove the overhead.\n",
      "And if memory is not enough, you can set `force_col_wise=true`.\n",
      "[LightGBM] [Info] Total Bins 372\n",
      "[LightGBM] [Info] Number of data points in the train set: 6540, number of used features: 24\n",
      "[LightGBM] [Info] [binary:BoostFromScore]: pavg=0.496942 -> initscore=-0.012233\n",
      "[LightGBM] [Info] Start training from score -0.012233\n",
      "[LightGBM] [Warning] Found whitespace in feature_names, replace with underlines\n",
      "[LightGBM] [Info] Number of positive: 4062, number of negative: 4112\n",
      "[LightGBM] [Info] Auto-choosing row-wise multi-threading, the overhead of testing was 0.000805 seconds.\n",
      "You can set `force_row_wise=true` to remove the overhead.\n",
      "And if memory is not enough, you can set `force_col_wise=true`.\n",
      "[LightGBM] [Info] Total Bins 372\n",
      "[LightGBM] [Info] Number of data points in the train set: 8174, number of used features: 24\n",
      "[LightGBM] [Info] [binary:BoostFromScore]: pavg=0.496942 -> initscore=-0.012234\n",
      "[LightGBM] [Info] Start training from score -0.012234\n",
      "\n",
      "Classification Report for LightGBM with ADASYN resampling:\n",
      "              precision    recall  f1-score   support\n",
      "\n",
      "           0       0.86      0.80      0.83      1028\n",
      "           1       0.81      0.86      0.84      1016\n",
      "\n",
      "    accuracy                           0.83      2044\n",
      "   macro avg       0.84      0.83      0.83      2044\n",
      "weighted avg       0.84      0.83      0.83      2044\n",
      "\n",
      "Confusion Matrix:\n"
     ]
    },
    {
     "data": {
      "image/png": "[encoded data removed]",
      "text/plain": [
       "<Figure size 432x288 with 2 Axes>"
      ]
     },
     "metadata": {
      "needs_background": "light"
     },
     "output_type": "display_data"
    }
   ],
   "source": [
    "# define dict of models to train\n",
    "models = {\n",
    "    'RandomForest': RandomForestClassifier(random_state=42),\n",
    "    'XGBoost': XGBClassifier(eval_metric='auc', random_state=42),\n",
    "    'CatBoost': CatBoostClassifier(verbose=0, random_state=42),\n",
    "    'LightGBM': LGBMClassifier(random_state=42)\n",
    "}\n",
    "\n",
    "# Get metrics dataframe\n",
    "metrics_df = pd.DataFrame(columns=['Model', 'Resampling', 'CV_F1_Mean', 'CV_F1_Std', 'Test_Accuracy', 'Test_Precision', 'Test_Recall', 'Test_F1-Score', 'Test_ROC-AUC'])  \n",
    "\n",
    "# Training Models using cross-validation\n",
    "for method, (dataset, cols_to_delete) in dict_resampled.items():\n",
    "    X = dataset.drop(columns=['Churn'])\n",
    "    y = dataset['Churn']\n",
    "    \n",
    "    X_train, X_test, y_train, y_test = train_test_split(X, y, test_size=0.2, random_state=42, stratify=y)\n",
    "    \n",
    "    for model_name, model in models.items():\n",
    "        cv_scores = cross_val_score(model, X_train, y_train, cv=5, scoring='f1')\n",
    "\n",
    "        model.fit(X_train, y_train)\n",
    "        \n",
    "        y_pred = model.predict(X_test)\n",
    "        y_proba = model.predict_proba(X_test)[:, 1]\n",
    "        \n",
    "        report = classification_report(y_test, y_pred, output_dict=True)\n",
    "        accuracy = report['accuracy']\n",
    "        precision = report['1']['precision']\n",
    "        recall = report['1']['recall']\n",
    "        f1_score = report['1']['f1-score']\n",
    "        roc_auc = roc_auc_score(y_test, y_proba)\n",
    "\n",
    "        # Print classification report and confusion matrix\n",
    "        print(f\"\\nClassification Report for {model_name} with {method} resampling:\")\n",
    "        print(classification_report(y_test, y_pred))\n",
    "        print(\"Confusion Matrix:\")\n",
    "        sns.heatmap(confusion_matrix(y_test, y_pred), annot=True, fmt='d', cmap='Blues')\n",
    "        plt.title(f'Confusion Matrix for {model_name} with {method} resampling')\n",
    "        plt.xlabel('Predicted')\n",
    "        plt.ylabel('Actual')\n",
    "        plt.show()\n",
    "        \n",
    "        metrics_df = metrics_df.append({\n",
    "            'Model': model_name,\n",
    "            'Resampling': method,\n",
    "            'CV_F1_Mean': cv_scores.mean(),\n",
    "            'CV_F1_Std': cv_scores.std(),\n",
    "            'Test_Accuracy': accuracy,\n",
    "            'Test_Precision': precision,\n",
    "            'Test_Recall': recall,\n",
    "            'Test_F1-Score': f1_score,\n",
    "            'Test_ROC-AUC': roc_auc\n",
    "        }, ignore_index=True)"
   ]
  },
  {
   "cell_type": "code",
   "execution_count": 25,
   "id": "2ababafd",
   "metadata": {},
   "outputs": [
    {
     "data": {
      "text/html": [
       "<div>\n",
       "<style scoped>\n",
       "    .dataframe tbody tr th:only-of-type {\n",
       "        vertical-align: middle;\n",
       "    }\n",
       "\n",
       "    .dataframe tbody tr th {\n",
       "        vertical-align: top;\n",
       "    }\n",
       "\n",
       "    .dataframe thead th {\n",
       "        text-align: right;\n",
       "    }\n",
       "</style>\n",
       "<table border=\"1\" class=\"dataframe\">\n",
       "  <thead>\n",
       "    <tr style=\"text-align: right;\">\n",
       "      <th></th>\n",
       "      <th>Model</th>\n",
       "      <th>Resampling</th>\n",
       "      <th>CV_F1_Mean</th>\n",
       "      <th>CV_F1_Std</th>\n",
       "      <th>Test_Accuracy</th>\n",
       "      <th>Test_Precision</th>\n",
       "      <th>Test_Recall</th>\n",
       "      <th>Test_F1-Score</th>\n",
       "      <th>Test_ROC-AUC</th>\n",
       "    </tr>\n",
       "  </thead>\n",
       "  <tbody>\n",
       "    <tr>\n",
       "      <th>0</th>\n",
       "      <td>RandomForest</td>\n",
       "      <td>SMOTE</td>\n",
       "      <td>0.833208</td>\n",
       "      <td>0.005657</td>\n",
       "      <td>0.835603</td>\n",
       "      <td>0.835603</td>\n",
       "      <td>0.835603</td>\n",
       "      <td>0.835603</td>\n",
       "      <td>0.915806</td>\n",
       "    </tr>\n",
       "    <tr>\n",
       "      <th>1</th>\n",
       "      <td>XGBoost</td>\n",
       "      <td>SMOTE</td>\n",
       "      <td>0.833801</td>\n",
       "      <td>0.008925</td>\n",
       "      <td>0.844358</td>\n",
       "      <td>0.836502</td>\n",
       "      <td>0.856031</td>\n",
       "      <td>0.846154</td>\n",
       "      <td>0.914063</td>\n",
       "    </tr>\n",
       "    <tr>\n",
       "      <th>2</th>\n",
       "      <td>CatBoost</td>\n",
       "      <td>SMOTE</td>\n",
       "      <td>0.839208</td>\n",
       "      <td>0.009031</td>\n",
       "      <td>0.837549</td>\n",
       "      <td>0.823694</td>\n",
       "      <td>0.858949</td>\n",
       "      <td>0.840952</td>\n",
       "      <td>0.914627</td>\n",
       "    </tr>\n",
       "    <tr>\n",
       "      <th>3</th>\n",
       "      <td>LightGBM</td>\n",
       "      <td>SMOTE</td>\n",
       "      <td>0.837097</td>\n",
       "      <td>0.009883</td>\n",
       "      <td>0.838035</td>\n",
       "      <td>0.834456</td>\n",
       "      <td>0.843385</td>\n",
       "      <td>0.838897</td>\n",
       "      <td>0.915902</td>\n",
       "    </tr>\n",
       "    <tr>\n",
       "      <th>4</th>\n",
       "      <td>RandomForest</td>\n",
       "      <td>ADASYN</td>\n",
       "      <td>0.814710</td>\n",
       "      <td>0.003827</td>\n",
       "      <td>0.825342</td>\n",
       "      <td>0.817743</td>\n",
       "      <td>0.834646</td>\n",
       "      <td>0.826108</td>\n",
       "      <td>0.904381</td>\n",
       "    </tr>\n",
       "    <tr>\n",
       "      <th>5</th>\n",
       "      <td>XGBoost</td>\n",
       "      <td>ADASYN</td>\n",
       "      <td>0.831068</td>\n",
       "      <td>0.001657</td>\n",
       "      <td>0.836595</td>\n",
       "      <td>0.817505</td>\n",
       "      <td>0.864173</td>\n",
       "      <td>0.840191</td>\n",
       "      <td>0.908650</td>\n",
       "    </tr>\n",
       "    <tr>\n",
       "      <th>6</th>\n",
       "      <td>CatBoost</td>\n",
       "      <td>ADASYN</td>\n",
       "      <td>0.828786</td>\n",
       "      <td>0.007664</td>\n",
       "      <td>0.835127</td>\n",
       "      <td>0.812903</td>\n",
       "      <td>0.868110</td>\n",
       "      <td>0.839600</td>\n",
       "      <td>0.908890</td>\n",
       "    </tr>\n",
       "    <tr>\n",
       "      <th>7</th>\n",
       "      <td>LightGBM</td>\n",
       "      <td>ADASYN</td>\n",
       "      <td>0.829220</td>\n",
       "      <td>0.008440</td>\n",
       "      <td>0.834149</td>\n",
       "      <td>0.813716</td>\n",
       "      <td>0.864173</td>\n",
       "      <td>0.838186</td>\n",
       "      <td>0.909002</td>\n",
       "    </tr>\n",
       "  </tbody>\n",
       "</table>\n",
       "</div>"
      ],
      "text/plain": [
       "          Model Resampling  CV_F1_Mean  CV_F1_Std  Test_Accuracy  \\\n",
       "0  RandomForest      SMOTE    0.833208   0.005657       0.835603   \n",
       "1       XGBoost      SMOTE    0.833801   0.008925       0.844358   \n",
       "2      CatBoost      SMOTE    0.839208   0.009031       0.837549   \n",
       "3      LightGBM      SMOTE    0.837097   0.009883       0.838035   \n",
       "4  RandomForest     ADASYN    0.814710   0.003827       0.825342   \n",
       "5       XGBoost     ADASYN    0.831068   0.001657       0.836595   \n",
       "6      CatBoost     ADASYN    0.828786   0.007664       0.835127   \n",
       "7      LightGBM     ADASYN    0.829220   0.008440       0.834149   \n",
       "\n",
       "   Test_Precision  Test_Recall  Test_F1-Score  Test_ROC-AUC  \n",
       "0        0.835603     0.835603       0.835603      0.915806  \n",
       "1        0.836502     0.856031       0.846154      0.914063  \n",
       "2        0.823694     0.858949       0.840952      0.914627  \n",
       "3        0.834456     0.843385       0.838897      0.915902  \n",
       "4        0.817743     0.834646       0.826108      0.904381  \n",
       "5        0.817505     0.864173       0.840191      0.908650  \n",
       "6        0.812903     0.868110       0.839600      0.908890  \n",
       "7        0.813716     0.864173       0.838186      0.909002  "
      ]
     },
     "execution_count": 25,
     "metadata": {},
     "output_type": "execute_result"
    }
   ],
   "source": [
    "metrics_df"
   ]
  },
  {
   "cell_type": "code",
   "execution_count": 26,
   "id": "47bba7f5",
   "metadata": {},
   "outputs": [
    {
     "name": "stdout",
     "output_type": "stream",
     "text": [
      "Best model: XGBoost with SMOTE resampling\n"
     ]
    }
   ],
   "source": [
    "# The best model\n",
    "best_model_info = metrics_df.sort_values(by='Test_F1-Score', ascending=False).iloc[0]\n",
    "best_model_name = best_model_info['Model']\n",
    "best_resampling_method = best_model_info['Resampling']\n",
    "print(f\"Best model: {best_model_name} with {best_resampling_method} resampling\")"
   ]
  },
  {
   "cell_type": "code",
   "execution_count": 27,
   "id": "3b293e41",
   "metadata": {},
   "outputs": [
    {
     "name": "stdout",
     "output_type": "stream",
     "text": [
      "Best hyperparameters: {'learning_rate': 0.22959818254342154, 'max_depth': 7, 'n_estimators': 120}\n",
      "\n",
      "Classification Report for the best model XGBoost after hyperparameter tuning:\n",
      "              precision    recall  f1-score   support\n",
      "\n",
      "           0       0.85      0.83      0.84      1028\n",
      "           1       0.84      0.85      0.84      1028\n",
      "\n",
      "    accuracy                           0.84      2056\n",
      "   macro avg       0.84      0.84      0.84      2056\n",
      "weighted avg       0.84      0.84      0.84      2056\n",
      "\n",
      "ROC-AUC: 0.9163329497797091\n"
     ]
    }
   ],
   "source": [
    "# Fine-tune the best model XGBoost with SMOTE using RandomizedSearchCV\n",
    "param_distributions = {\n",
    "    'max_depth': randint(3, 10),\n",
    "    'n_estimators': randint(100, 500),\n",
    "    'learning_rate': uniform(0.01, 0.3)\n",
    "}\n",
    "random_search = RandomizedSearchCV(models[best_model_name], param_distributions, n_iter=10, scoring='f1', cv=5, random_state=42, n_jobs=-1)\n",
    "\n",
    "# Fit the RandomizedSearchCV on the training data of the best resampling method\n",
    "X = dict_resampled[best_resampling_method][0].drop(columns=['Churn'])\n",
    "y = dict_resampled[best_resampling_method][0]['Churn']\n",
    "X_train, X_test, y_train, y_test = train_test_split(X, y, test_size=0.2, random_state=42, stratify=y)\n",
    "random_search.fit(X_train, y_train)\n",
    "best_model = random_search.best_estimator_\n",
    "print(f\"Best hyperparameters: {random_search.best_params_}\")\n",
    "# Evaluate the best model on the test set\n",
    "y_pred = best_model.predict(X_test)\n",
    "y_proba = best_model.predict_proba(X_test)[:, 1]\n",
    "print(f\"\\nClassification Report for the best model {best_model_name} after hyperparameter tuning:\")\n",
    "print(classification_report(y_test, y_pred))\n",
    "# AUC-ROC\n",
    "roc_auc = roc_auc_score(y_test, y_proba)\n",
    "print(f\"ROC-AUC: {roc_auc}\")"
   ]
  },
  {
   "cell_type": "code",
   "execution_count": 28,
   "id": "b693e8ea",
   "metadata": {},
   "outputs": [
    {
     "data": {
      "text/plain": [
       "['best_model.pkl']"
      ]
     },
     "execution_count": 28,
     "metadata": {},
     "output_type": "execute_result"
    }
   ],
   "source": [
    "# Save the best model after RandomizedSearch\n",
    "joblib.dump(best_model, 'best_model.pkl')"
   ]
  }
 ],
 "metadata": {
  "kernelspec": {
   "display_name": "Python 3",
   "language": "python",
   "name": "python3"
  },
  "language_info": {
   "codemirror_mode": {
    "name": "ipython",
    "version": 3
   },
   "file_extension": ".py",
   "mimetype": "text/x-python",
   "name": "python",
   "nbconvert_exporter": "python",
   "pygments_lexer": "ipython3",
   "version": "3.9.13"
  }
 },
 "nbformat": 4,
 "nbformat_minor": 5
}
